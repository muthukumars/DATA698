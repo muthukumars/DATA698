{
 "cells": [
  {
   "cell_type": "code",
   "execution_count": 1,
   "metadata": {},
   "outputs": [],
   "source": [
    "import pandas as pd"
   ]
  },
  {
   "cell_type": "code",
   "execution_count": 2,
   "metadata": {},
   "outputs": [],
   "source": [
    "import statsmodels as statModels\n",
    "from sklearn.model_selection import train_test_split\n",
    "from sklearn.linear_model import LogisticRegression\n",
    "from sklearn.metrics import classification_report\n",
    "from sklearn.metrics import confusion_matrix\n",
    "from sklearn.metrics import accuracy_score\n",
    "import matplotlib.pyplot as plt\n",
    "from sklearn.naive_bayes import GaussianNB"
   ]
  },
  {
   "cell_type": "code",
   "execution_count": 3,
   "metadata": {},
   "outputs": [],
   "source": [
    "url=\"https://raw.githubusercontent.com/vincentarelbundock/Rdatasets/master/csv/MASS/Melanoma.csv\""
   ]
  },
  {
   "cell_type": "code",
   "execution_count": 4,
   "metadata": {},
   "outputs": [],
   "source": [
    "split25=0.25\n",
    "split40=0.40"
   ]
  },
  {
   "cell_type": "code",
   "execution_count": 5,
   "metadata": {},
   "outputs": [],
   "source": [
    "outputForProcessing=pd.read_csv(url,skiprows=1)"
   ]
  },
  {
   "cell_type": "code",
   "execution_count": 6,
   "metadata": {},
   "outputs": [
    {
     "name": "stdout",
     "output_type": "stream",
     "text": [
      "       1    10  3  1.1  76  1972   6.76  1.2\n",
      "0      2    30  3    1  56  1968   0.65    0\n",
      "1      3    35  2    1  41  1977   1.34    0\n",
      "2      4    99  3    0  71  1968   2.90    0\n",
      "3      5   185  1    1  52  1965  12.08    1\n",
      "4      6   204  1    1  28  1971   4.84    1\n",
      "..   ...   ... ..  ...  ..   ...    ...  ...\n",
      "199  201  4492  2    1  29  1965   7.06    1\n",
      "200  202  4668  2    0  40  1965   6.12    0\n",
      "201  203  4688  2    0  42  1965   0.48    0\n",
      "202  204  4926  2    0  50  1964   2.26    0\n",
      "203  205  5565  2    0  41  1962   2.90    0\n",
      "\n",
      "[204 rows x 8 columns]\n"
     ]
    }
   ],
   "source": [
    "print(outputForProcessing)"
   ]
  },
  {
   "cell_type": "code",
   "execution_count": null,
   "metadata": {},
   "outputs": [],
   "source": []
  }
 ],
 "metadata": {
  "kernelspec": {
   "display_name": "Python 3",
   "language": "python",
   "name": "python3"
  },
  "language_info": {
   "codemirror_mode": {
    "name": "ipython",
    "version": 3
   },
   "file_extension": ".py",
   "mimetype": "text/x-python",
   "name": "python",
   "nbconvert_exporter": "python",
   "pygments_lexer": "ipython3",
   "version": "3.7.4"
  }
 },
 "nbformat": 4,
 "nbformat_minor": 2
}
